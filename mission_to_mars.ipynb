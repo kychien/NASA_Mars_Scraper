{
 "cells": [
  {
   "cell_type": "markdown",
   "metadata": {},
   "source": [
    "# Mission to Mars\n",
    "---\n",
    "Webscrapper for NASA's Mars Exploration Program website.\n",
    "---\n",
    "### Dependencies"
   ]
  },
  {
   "cell_type": "code",
   "execution_count": 1,
   "metadata": {},
   "outputs": [],
   "source": [
    "from bs4 import BeautifulSoup\n",
    "import requests\n",
    "from splinter import Browser\n",
    "from os.path import basename\n",
    "import time\n",
    "import pandas as pd"
   ]
  },
  {
   "cell_type": "code",
   "execution_count": 2,
   "metadata": {},
   "outputs": [],
   "source": [
    "# Splinter set up\n",
    "executable_path = {'executable_path': 'chromedriver.exe'}\n",
    "browser = Browser('chrome', **executable_path, headless=False)"
   ]
  },
  {
   "cell_type": "markdown",
   "metadata": {},
   "source": [
    "---\n",
    "### Latest News\n",
    "- Grab titles and teaser text of all the latest news."
   ]
  },
  {
   "cell_type": "code",
   "execution_count": 3,
   "metadata": {},
   "outputs": [],
   "source": [
    "# Open browser with splinter for scraping\n",
    "url = 'https://mars.nasa.gov/news/'\n",
    "browser.visit(url)\n",
    "html = browser.html\n",
    "mars_soup = BeautifulSoup(html, 'html.parser')\n"
   ]
  },
  {
   "cell_type": "code",
   "execution_count": 4,
   "metadata": {},
   "outputs": [],
   "source": [
    "# Select the container for main contents > article containers\n",
    "news_hits = mars_soup.find('div', class_='grid_list_page module content_page')\\\n",
    "    .find_all('div', class_='image_and_description_container')\n"
   ]
  },
  {
   "cell_type": "code",
   "execution_count": 5,
   "metadata": {},
   "outputs": [
    {
     "name": "stdout",
     "output_type": "stream",
     "text": [
      "40 titles found.\n",
      "40 teasers found.\n",
      "Last Scraped Result: \"Drilling Success: Curiosity is Collecting Mars Rocks\" \n",
      "    Engineers will now test delivering samples to instruments inside NASA's Curiosity Mars rover.\n"
     ]
    }
   ],
   "source": [
    "# Create lists for findings\n",
    "news_titles = []\n",
    "news_teaser = []\n",
    "\n",
    "# Go through each article and strip the title and preview summary\n",
    "for news in news_hits:\n",
    "    title = news.find('div', class_='content_title').get_text()\n",
    "    news_titles.append(title)\n",
    "    tease = news.find('div', class_='article_teaser_body').get_text()\n",
    "    news_teaser.append(tease)\n",
    "\n",
    "# Check the count of items scraped and preview the last find\n",
    "print(f'{len(news_titles)} titles found.\\n{len(news_teaser)} teasers found.')\n",
    "print(f'Last Scraped Result: \"{title}\" \\n    {tease}')"
   ]
  },
  {
   "cell_type": "markdown",
   "metadata": {},
   "source": [
    "---\n",
    "### JPL Mars Space Images\n",
    "- Grab the full size jpeg of the featured image\n",
    "- Retain a copy of the URL to the featured image"
   ]
  },
  {
   "cell_type": "code",
   "execution_count": 6,
   "metadata": {},
   "outputs": [],
   "source": [
    "# Redirect browser to the JPL website and prepare for scraping\n",
    "base_url = 'https://www.jpl.nasa.gov' \n",
    "url = base_url + '/spaceimages/?search=&category=Mars'\n",
    "browser.visit(url)"
   ]
  },
  {
   "cell_type": "code",
   "execution_count": 7,
   "metadata": {},
   "outputs": [],
   "source": [
    "# Have splinter focus on the full size of the featured image\n",
    "browser.click_link_by_partial_text('FULL IMAGE')\n",
    "\n",
    "# Pause to give browser time to load before moving on\n",
    "time.sleep(5)"
   ]
  },
  {
   "cell_type": "code",
   "execution_count": 8,
   "metadata": {},
   "outputs": [
    {
     "name": "stdout",
     "output_type": "stream",
     "text": [
      "https://www.jpl.nasa.gov/spaceimages/images/mediumsize/PIA18907_ip.jpg\n"
     ]
    }
   ],
   "source": [
    "# Scrape the URL of the image\n",
    "html = browser.html\n",
    "jpl_soup = BeautifulSoup(html, 'html.parser')\n",
    "feature_img_tag = jpl_soup.find('img', class_='fancybox-image')\n",
    "feature_img_url = feature_img_tag.get('src')\n",
    "print(base_url + feature_img_url)\n",
    "\n",
    "# Grab the immage itself\n",
    "save_dir = basename(feature_img_url)\n",
    "featured_img = requests.get(base_url+feature_img_url).content\n",
    "with open(save_dir, 'wb') as dl:\n",
    "    dl.write(featured_img)"
   ]
  },
  {
   "cell_type": "markdown",
   "metadata": {},
   "source": [
    "---\n",
    "### Mars Weather\n",
    "- Grab the latest Mars weather status tweet"
   ]
  },
  {
   "cell_type": "code",
   "execution_count": 9,
   "metadata": {},
   "outputs": [],
   "source": [
    "# Navigate to mars weather report twitter page\n",
    "twit_url = 'https://twitter.com/marswxreport?lang=en'\n",
    "browser.visit(twit_url)"
   ]
  },
  {
   "cell_type": "code",
   "execution_count": 10,
   "metadata": {},
   "outputs": [],
   "source": [
    "# Grab html\n",
    "html = browser.html\n",
    "twit_soup = BeautifulSoup(html, 'html.parser')"
   ]
  },
  {
   "cell_type": "code",
   "execution_count": 11,
   "metadata": {},
   "outputs": [
    {
     "name": "stdout",
     "output_type": "stream",
     "text": [
      "\n",
      "Sol 2223 (2018-11-07), high 2C/35F, low -64C/-83F, pressure at 8.50 hPa, daylight 06:18-18:35\n",
      "\n"
     ]
    }
   ],
   "source": [
    "# Grab first tweet for weather status\n",
    "tweet = twit_soup.find('div', class_='js-tweet-text-container').get_text()\n",
    "print(tweet)"
   ]
  },
  {
   "cell_type": "markdown",
   "metadata": {},
   "source": [
    "---\n",
    "### Mars Facts\n",
    "- Scrape the Mars facts into a dataframe"
   ]
  },
  {
   "cell_type": "code",
   "execution_count": 12,
   "metadata": {},
   "outputs": [],
   "source": [
    "fact_url = 'http://space-facts.com/mars/'\n",
    "browser.visit(fact_url)\n",
    "html = browser.html\n",
    "fact_soup = BeautifulSoup(html, 'html.parser')"
   ]
  },
  {
   "cell_type": "code",
   "execution_count": 13,
   "metadata": {},
   "outputs": [
    {
     "data": {
      "text/plain": [
       "Int64Index([0, 1], dtype='int64')"
      ]
     },
     "execution_count": 13,
     "metadata": {},
     "output_type": "execute_result"
    }
   ],
   "source": [
    "facts_html = pd.read_html(fact_url)\n",
    "facts_pd = facts_html[0]\n",
    "facts_pd.columns"
   ]
  },
  {
   "cell_type": "code",
   "execution_count": 14,
   "metadata": {},
   "outputs": [
    {
     "data": {
      "text/html": [
       "<div>\n",
       "<style scoped>\n",
       "    .dataframe tbody tr th:only-of-type {\n",
       "        vertical-align: middle;\n",
       "    }\n",
       "\n",
       "    .dataframe tbody tr th {\n",
       "        vertical-align: top;\n",
       "    }\n",
       "\n",
       "    .dataframe thead th {\n",
       "        text-align: right;\n",
       "    }\n",
       "</style>\n",
       "<table border=\"1\" class=\"dataframe\">\n",
       "  <thead>\n",
       "    <tr style=\"text-align: right;\">\n",
       "      <th></th>\n",
       "      <th>Mars</th>\n",
       "    </tr>\n",
       "    <tr>\n",
       "      <th>Planet Profile</th>\n",
       "      <th></th>\n",
       "    </tr>\n",
       "  </thead>\n",
       "  <tbody>\n",
       "    <tr>\n",
       "      <th>Equatorial Diameter:</th>\n",
       "      <td>6,792 km</td>\n",
       "    </tr>\n",
       "    <tr>\n",
       "      <th>Polar Diameter:</th>\n",
       "      <td>6,752 km</td>\n",
       "    </tr>\n",
       "    <tr>\n",
       "      <th>Mass:</th>\n",
       "      <td>6.42 x 10^23 kg (10.7% Earth)</td>\n",
       "    </tr>\n",
       "    <tr>\n",
       "      <th>Moons:</th>\n",
       "      <td>2 (Phobos &amp; Deimos)</td>\n",
       "    </tr>\n",
       "    <tr>\n",
       "      <th>Orbit Distance:</th>\n",
       "      <td>227,943,824 km (1.52 AU)</td>\n",
       "    </tr>\n",
       "    <tr>\n",
       "      <th>Orbit Period:</th>\n",
       "      <td>687 days (1.9 years)</td>\n",
       "    </tr>\n",
       "    <tr>\n",
       "      <th>Surface Temperature:</th>\n",
       "      <td>-153 to 20 °C</td>\n",
       "    </tr>\n",
       "    <tr>\n",
       "      <th>First Record:</th>\n",
       "      <td>2nd millennium BC</td>\n",
       "    </tr>\n",
       "    <tr>\n",
       "      <th>Recorded By:</th>\n",
       "      <td>Egyptian astronomers</td>\n",
       "    </tr>\n",
       "  </tbody>\n",
       "</table>\n",
       "</div>"
      ],
      "text/plain": [
       "                                               Mars\n",
       "Planet Profile                                     \n",
       "Equatorial Diameter:                       6,792 km\n",
       "Polar Diameter:                            6,752 km\n",
       "Mass:                 6.42 x 10^23 kg (10.7% Earth)\n",
       "Moons:                          2 (Phobos & Deimos)\n",
       "Orbit Distance:            227,943,824 km (1.52 AU)\n",
       "Orbit Period:                  687 days (1.9 years)\n",
       "Surface Temperature:                  -153 to 20 °C\n",
       "First Record:                     2nd millennium BC\n",
       "Recorded By:                   Egyptian astronomers"
      ]
     },
     "execution_count": 14,
     "metadata": {},
     "output_type": "execute_result"
    }
   ],
   "source": [
    "facts_pd.columns = ['Planet Profile', 'Mars']\n",
    "facts_pd.set_index('Planet Profile', inplace=True)\n",
    "facts_pd"
   ]
  },
  {
   "cell_type": "code",
   "execution_count": 15,
   "metadata": {},
   "outputs": [],
   "source": [
    "facts = fact_soup.find('div', id='facts').find('ul').find_all('li')\n"
   ]
  },
  {
   "cell_type": "code",
   "execution_count": 16,
   "metadata": {},
   "outputs": [
    {
     "name": "stdout",
     "output_type": "stream",
     "text": [
      "9 / 9\n"
     ]
    },
    {
     "data": {
      "text/html": [
       "<div>\n",
       "<style scoped>\n",
       "    .dataframe tbody tr th:only-of-type {\n",
       "        vertical-align: middle;\n",
       "    }\n",
       "\n",
       "    .dataframe tbody tr th {\n",
       "        vertical-align: top;\n",
       "    }\n",
       "\n",
       "    .dataframe thead th {\n",
       "        text-align: right;\n",
       "    }\n",
       "</style>\n",
       "<table border=\"1\" class=\"dataframe\">\n",
       "  <thead>\n",
       "    <tr style=\"text-align: right;\">\n",
       "      <th></th>\n",
       "      <th>Fact</th>\n",
       "      <th>Explanation</th>\n",
       "    </tr>\n",
       "  </thead>\n",
       "  <tbody>\n",
       "    <tr>\n",
       "      <th>0</th>\n",
       "      <td>Mars and Earth have approximately the same lan...</td>\n",
       "      <td>Even though Mars has only 15% of the Earth’s v...</td>\n",
       "    </tr>\n",
       "    <tr>\n",
       "      <th>1</th>\n",
       "      <td>Mars is home to the tallest mountain in the so...</td>\n",
       "      <td>Olympus Mons, a shield volcano, is 21km high a...</td>\n",
       "    </tr>\n",
       "    <tr>\n",
       "      <th>2</th>\n",
       "      <td>Only 18 missions to Mars have been successful.</td>\n",
       "      <td>As of September 2014 there have been 40 missio...</td>\n",
       "    </tr>\n",
       "    <tr>\n",
       "      <th>3</th>\n",
       "      <td>Mars has the largest dust storms in the solar ...</td>\n",
       "      <td>They can last for months and cover the entire ...</td>\n",
       "    </tr>\n",
       "    <tr>\n",
       "      <th>4</th>\n",
       "      <td>On Mars the Sun appears about half the size as...</td>\n",
       "      <td>At the closest point to the Sun, the Martian s...</td>\n",
       "    </tr>\n",
       "    <tr>\n",
       "      <th>5</th>\n",
       "      <td>Pieces of Mars have fallen to Earth.</td>\n",
       "      <td>Scientists have found tiny traces of Martian a...</td>\n",
       "    </tr>\n",
       "    <tr>\n",
       "      <th>6</th>\n",
       "      <td>Mars takes its name from the Roman god of war.</td>\n",
       "      <td>The ancient Greeks called the planet Ares, aft...</td>\n",
       "    </tr>\n",
       "    <tr>\n",
       "      <th>7</th>\n",
       "      <td>There are signs of liquid water on Mars.</td>\n",
       "      <td>For years Mars has been known to have water in...</td>\n",
       "    </tr>\n",
       "    <tr>\n",
       "      <th>8</th>\n",
       "      <td>One day Mars will have a ring.</td>\n",
       "      <td>In the next 20-40 million years Mars’ largest ...</td>\n",
       "    </tr>\n",
       "  </tbody>\n",
       "</table>\n",
       "</div>"
      ],
      "text/plain": [
       "                                                Fact  \\\n",
       "0  Mars and Earth have approximately the same lan...   \n",
       "1  Mars is home to the tallest mountain in the so...   \n",
       "2     Only 18 missions to Mars have been successful.   \n",
       "3  Mars has the largest dust storms in the solar ...   \n",
       "4  On Mars the Sun appears about half the size as...   \n",
       "5               Pieces of Mars have fallen to Earth.   \n",
       "6     Mars takes its name from the Roman god of war.   \n",
       "7           There are signs of liquid water on Mars.   \n",
       "8                     One day Mars will have a ring.   \n",
       "\n",
       "                                         Explanation  \n",
       "0  Even though Mars has only 15% of the Earth’s v...  \n",
       "1  Olympus Mons, a shield volcano, is 21km high a...  \n",
       "2  As of September 2014 there have been 40 missio...  \n",
       "3  They can last for months and cover the entire ...  \n",
       "4  At the closest point to the Sun, the Martian s...  \n",
       "5  Scientists have found tiny traces of Martian a...  \n",
       "6  The ancient Greeks called the planet Ares, aft...  \n",
       "7  For years Mars has been known to have water in...  \n",
       "8  In the next 20-40 million years Mars’ largest ...  "
      ]
     },
     "execution_count": 16,
     "metadata": {},
     "output_type": "execute_result"
    }
   ],
   "source": [
    "# Containers for fact portions\n",
    "fact_head = []\n",
    "fact_body = []\n",
    "\n",
    "# Scrape for facts\n",
    "for fact in facts:\n",
    "    head_sp = fact.find('strong')\n",
    "    fact_head.append(head_sp.get_text())\n",
    "    body = fact.get_text().split('\\n')[1]\n",
    "    fact_body.append(body)\n",
    "\n",
    "# Check scrape results\n",
    "print(f'{len(fact_head)} / {len(fact_body)}')\n",
    "    \n",
    "about_mars_pd = pd.DataFrame({'Fact':fact_head, 'Explanation':fact_body})\n",
    "about_mars_pd"
   ]
  },
  {
   "cell_type": "code",
   "execution_count": 17,
   "metadata": {},
   "outputs": [],
   "source": [
    "rel_sp = fact_soup.find('div', class_='yarpp-related').find_all('a')"
   ]
  },
  {
   "cell_type": "code",
   "execution_count": 18,
   "metadata": {},
   "outputs": [
    {
     "name": "stdout",
     "output_type": "stream",
     "text": [
      "3 / 3 / 3\n"
     ]
    },
    {
     "data": {
      "text/html": [
       "<div>\n",
       "<style scoped>\n",
       "    .dataframe tbody tr th:only-of-type {\n",
       "        vertical-align: middle;\n",
       "    }\n",
       "\n",
       "    .dataframe tbody tr th {\n",
       "        vertical-align: top;\n",
       "    }\n",
       "\n",
       "    .dataframe thead th {\n",
       "        text-align: right;\n",
       "    }\n",
       "</style>\n",
       "<table border=\"1\" class=\"dataframe\">\n",
       "  <thead>\n",
       "    <tr style=\"text-align: right;\">\n",
       "      <th></th>\n",
       "      <th>Title</th>\n",
       "      <th>Teaser</th>\n",
       "      <th>Link</th>\n",
       "    </tr>\n",
       "  </thead>\n",
       "  <tbody>\n",
       "    <tr>\n",
       "      <th>0</th>\n",
       "      <td>Mars Missions</td>\n",
       "      <td>Since the first spacecraft was sent to Mars w...</td>\n",
       "      <td>https://space-facts.com/mars-missions/</td>\n",
       "    </tr>\n",
       "    <tr>\n",
       "      <th>1</th>\n",
       "      <td>Mars Curiosity Facts</td>\n",
       "      <td>With the Mars Curiosity landing just a few ho...</td>\n",
       "      <td>https://space-facts.com/mars-curiosity-facts/</td>\n",
       "    </tr>\n",
       "    <tr>\n",
       "      <th>2</th>\n",
       "      <td>Mars Panorama</td>\n",
       "      <td>A 360 degree panorama of the Martian landscap...</td>\n",
       "      <td>https://space-facts.com/mars-panorama/</td>\n",
       "    </tr>\n",
       "  </tbody>\n",
       "</table>\n",
       "</div>"
      ],
      "text/plain": [
       "                   Title                                             Teaser  \\\n",
       "0         Mars Missions    Since the first spacecraft was sent to Mars w...   \n",
       "1  Mars Curiosity Facts    With the Mars Curiosity landing just a few ho...   \n",
       "2         Mars Panorama    A 360 degree panorama of the Martian landscap...   \n",
       "\n",
       "                                            Link  \n",
       "0         https://space-facts.com/mars-missions/  \n",
       "1  https://space-facts.com/mars-curiosity-facts/  \n",
       "2         https://space-facts.com/mars-panorama/  "
      ]
     },
     "execution_count": 18,
     "metadata": {},
     "output_type": "execute_result"
    }
   ],
   "source": [
    "# Containers for related fact portions\n",
    "rel_head = []\n",
    "rel_body = []\n",
    "rel_link = []\n",
    "\n",
    "# Scrape for facts\n",
    "for fact in rel_sp:\n",
    "    rel_head.append(fact.get_text())\n",
    "    rel_link.append(fact['href'])\n",
    "    rel_body.append(fact.next_sibling)\n",
    "\n",
    "# Check scrape results\n",
    "print(f'{len(rel_head)} / {len(rel_body)} / {len(rel_link)}')\n",
    "    \n",
    "related_pd = pd.DataFrame({'Title':rel_head, 'Teaser':rel_body, 'Link':rel_link})\n",
    "related_pd"
   ]
  },
  {
   "cell_type": "code",
   "execution_count": null,
   "metadata": {},
   "outputs": [],
   "source": []
  },
  {
   "cell_type": "markdown",
   "metadata": {},
   "source": [
    "---\n",
    "### Mars Hemispheres\n",
    "- Get hi-res images of each of Mar's hemispheres\n",
    "- Grab the name and save the URL\n",
    "- Store data as dict"
   ]
  },
  {
   "cell_type": "code",
   "execution_count": null,
   "metadata": {},
   "outputs": [],
   "source": []
  },
  {
   "cell_type": "code",
   "execution_count": null,
   "metadata": {},
   "outputs": [],
   "source": []
  }
 ],
 "metadata": {
  "kernelspec": {
   "display_name": "Python 3",
   "language": "python",
   "name": "python3"
  },
  "language_info": {
   "codemirror_mode": {
    "name": "ipython",
    "version": 3
   },
   "file_extension": ".py",
   "mimetype": "text/x-python",
   "name": "python",
   "nbconvert_exporter": "python",
   "pygments_lexer": "ipython3",
   "version": "3.6.5"
  }
 },
 "nbformat": 4,
 "nbformat_minor": 2
}
