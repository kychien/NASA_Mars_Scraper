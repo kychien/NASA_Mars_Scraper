{
 "cells": [
  {
   "cell_type": "markdown",
   "metadata": {},
   "source": [
    "# Mission to Mars\n",
    "---\n",
    "Webscrapper for NASA's Mars Exploration Program website.\n",
    "---\n",
    "### Dependencies"
   ]
  },
  {
   "cell_type": "code",
   "execution_count": 1,
   "metadata": {},
   "outputs": [],
   "source": [
    "from bs4 import BeautifulSoup\n",
    "import requests\n",
    "from splinter import Browser\n",
    "from os.path import basename\n",
    "import time"
   ]
  },
  {
   "cell_type": "code",
   "execution_count": 2,
   "metadata": {},
   "outputs": [],
   "source": [
    "# Splinter set up\n",
    "executable_path = {'executable_path': 'chromedriver.exe'}\n",
    "browser = Browser('chrome', **executable_path, headless=False)"
   ]
  },
  {
   "cell_type": "markdown",
   "metadata": {},
   "source": [
    "---\n",
    "### Latest News\n",
    "- Grab titles and teaser text of all the latest news."
   ]
  },
  {
   "cell_type": "code",
   "execution_count": 3,
   "metadata": {},
   "outputs": [],
   "source": [
    "# Open browser with splinter for scraping\n",
    "url = 'https://mars.nasa.gov/news/'\n",
    "browser.visit(url)\n",
    "html = browser.html\n",
    "mars_soup = BeautifulSoup(html, 'html.parser')\n"
   ]
  },
  {
   "cell_type": "code",
   "execution_count": 4,
   "metadata": {},
   "outputs": [],
   "source": [
    "# Select the container for main contents > article containers\n",
    "news_hits = mars_soup.find('div', class_='grid_list_page module content_page')\\\n",
    "    .find_all('div', class_='image_and_description_container')\n"
   ]
  },
  {
   "cell_type": "code",
   "execution_count": 5,
   "metadata": {},
   "outputs": [
    {
     "name": "stdout",
     "output_type": "stream",
     "text": [
      "40 titles found.\n",
      "40 teasers found.\n",
      "Last Scraped Result: \"Drilling Success: Curiosity is Collecting Mars Rocks\" \n",
      "    Engineers will now test delivering samples to instruments inside NASA's Curiosity Mars rover.\n"
     ]
    }
   ],
   "source": [
    "# Create lists for findings\n",
    "news_titles = []\n",
    "news_teaser = []\n",
    "\n",
    "# Go through each article and strip the title and preview summary\n",
    "for news in news_hits:\n",
    "    title = news.find('div', class_='content_title').get_text()\n",
    "    news_titles.append(title)\n",
    "    tease = news.find('div', class_='article_teaser_body').get_text()\n",
    "    news_teaser.append(tease)\n",
    "\n",
    "# Check the count of items scraped and preview the last find\n",
    "print(f'{len(news_titles)} titles found.\\n{len(news_teaser)} teasers found.')\n",
    "print(f'Last Scraped Result: \"{title}\" \\n    {tease}')"
   ]
  },
  {
   "cell_type": "markdown",
   "metadata": {},
   "source": [
    "---\n",
    "### JPL Mars Space Images\n",
    "- Grab the full size jpeg of the featured image\n",
    "- Retain a copy of the URL to the featured image"
   ]
  },
  {
   "cell_type": "code",
   "execution_count": 6,
   "metadata": {},
   "outputs": [],
   "source": [
    "# Redirect browser to the JPL website and prepare for scraping\n",
    "base_url = 'https://www.jpl.nasa.gov' \n",
    "url = base_url + '/spaceimages/?search=&category=Mars'\n",
    "browser.visit(url)"
   ]
  },
  {
   "cell_type": "code",
   "execution_count": 7,
   "metadata": {},
   "outputs": [],
   "source": [
    "# Have splinter focus on the full size of the featured image\n",
    "browser.click_link_by_partial_text('FULL IMAGE')\n",
    "\n",
    "# Pause to give browser time to load before moving on\n",
    "time.sleep(5)"
   ]
  },
  {
   "cell_type": "code",
   "execution_count": 8,
   "metadata": {},
   "outputs": [
    {
     "name": "stdout",
     "output_type": "stream",
     "text": [
      "https://www.jpl.nasa.gov/spaceimages/images/mediumsize/PIA20057_ip.jpg\n"
     ]
    }
   ],
   "source": [
    "# Scrape the URL of the image\n",
    "html = browser.html\n",
    "jpl_soup = BeautifulSoup(html, 'html.parser')\n",
    "feature_img_tag = jpl_soup.find('img', class_='fancybox-image')\n",
    "feature_img_url = feature_img_tag.get('src')\n",
    "print(base_url + feature_img_url)\n",
    "\n",
    "# Grab the immage itself\n",
    "save_dir = basename(feature_img_url)\n",
    "with open(save_dir, 'wb') as dl:\n",
    "    dl.write(requests.get(base_url+feature_img_url).content)"
   ]
  },
  {
   "cell_type": "markdown",
   "metadata": {},
   "source": [
    "---\n",
    "### Mars Weather\n",
    "- Grab the latest Mars weather status tweet"
   ]
  },
  {
   "cell_type": "code",
   "execution_count": null,
   "metadata": {},
   "outputs": [],
   "source": []
  },
  {
   "cell_type": "code",
   "execution_count": null,
   "metadata": {},
   "outputs": [],
   "source": []
  },
  {
   "cell_type": "markdown",
   "metadata": {},
   "source": [
    "---\n",
    "### Mars Facts\n",
    "- Scrape the Mars facts into a dataframe"
   ]
  },
  {
   "cell_type": "code",
   "execution_count": null,
   "metadata": {},
   "outputs": [],
   "source": []
  },
  {
   "cell_type": "code",
   "execution_count": null,
   "metadata": {},
   "outputs": [],
   "source": []
  },
  {
   "cell_type": "markdown",
   "metadata": {},
   "source": [
    "---\n",
    "### Mars Hemispheres\n",
    "- Get hi-res images of each of Mar's hemispheres\n",
    "- Grab the name and save the URL\n",
    "- Store data as dict"
   ]
  },
  {
   "cell_type": "code",
   "execution_count": null,
   "metadata": {},
   "outputs": [],
   "source": []
  },
  {
   "cell_type": "code",
   "execution_count": null,
   "metadata": {},
   "outputs": [],
   "source": []
  }
 ],
 "metadata": {
  "kernelspec": {
   "display_name": "Python 3",
   "language": "python",
   "name": "python3"
  },
  "language_info": {
   "codemirror_mode": {
    "name": "ipython",
    "version": 3
   },
   "file_extension": ".py",
   "mimetype": "text/x-python",
   "name": "python",
   "nbconvert_exporter": "python",
   "pygments_lexer": "ipython3",
   "version": "3.6.5"
  }
 },
 "nbformat": 4,
 "nbformat_minor": 2
}
